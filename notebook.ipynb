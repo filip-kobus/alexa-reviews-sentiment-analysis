{
 "cells": [
  {
   "cell_type": "markdown",
   "id": "76c61ad5",
   "metadata": {},
   "source": [
    "# Goal of This Notebook\n",
    "\n",
    "The primary objective of this notebook is to analyze customer reviews of Amazon Alexa products and develop a sentiment classification model. The classification task will focus on categorizing reviews into distinct sentiment classes based on the feedback provided."
   ]
  },
  {
   "cell_type": "markdown",
   "id": "5e6ab916",
   "metadata": {},
   "source": [
    "# Install required modules"
   ]
  },
  {
   "cell_type": "code",
   "execution_count": 42,
   "id": "0f897185",
   "metadata": {},
   "outputs": [],
   "source": [
    "!pip install kagglehub --quiet\n",
    "!pip install vaderSentiment --quiet"
   ]
  },
  {
   "cell_type": "code",
   "execution_count": 43,
   "id": "7503d6e3",
   "metadata": {},
   "outputs": [],
   "source": [
    "import kagglehub\n",
    "from pathlib import Path\n",
    "import seaborn as sns\n",
    "import matplotlib.pyplot as plt\n",
    "import pandas as pd\n",
    "import numpy as np\n",
    "from vaderSentiment.vaderSentiment import SentimentIntensityAnalyzer\n"
   ]
  },
  {
   "cell_type": "markdown",
   "id": "b66a7d8a",
   "metadata": {},
   "source": [
    "# Exploratory Data Analysis"
   ]
  },
  {
   "cell_type": "markdown",
   "id": "4d28489e",
   "metadata": {},
   "source": [
    "##### Load dataset from kaggle"
   ]
  },
  {
   "cell_type": "code",
   "execution_count": 44,
   "id": "7ae094d4",
   "metadata": {},
   "outputs": [
    {
     "data": {
      "text/html": [
       "<div>\n",
       "<style scoped>\n",
       "    .dataframe tbody tr th:only-of-type {\n",
       "        vertical-align: middle;\n",
       "    }\n",
       "\n",
       "    .dataframe tbody tr th {\n",
       "        vertical-align: top;\n",
       "    }\n",
       "\n",
       "    .dataframe thead th {\n",
       "        text-align: right;\n",
       "    }\n",
       "</style>\n",
       "<table border=\"1\" class=\"dataframe\">\n",
       "  <thead>\n",
       "    <tr style=\"text-align: right;\">\n",
       "      <th></th>\n",
       "      <th>rating</th>\n",
       "      <th>date</th>\n",
       "      <th>variation</th>\n",
       "      <th>verified_reviews</th>\n",
       "      <th>feedback</th>\n",
       "    </tr>\n",
       "  </thead>\n",
       "  <tbody>\n",
       "    <tr>\n",
       "      <th>0</th>\n",
       "      <td>5</td>\n",
       "      <td>31-Jul-18</td>\n",
       "      <td>Charcoal Fabric</td>\n",
       "      <td>Love my Echo!</td>\n",
       "      <td>1</td>\n",
       "    </tr>\n",
       "    <tr>\n",
       "      <th>1</th>\n",
       "      <td>5</td>\n",
       "      <td>31-Jul-18</td>\n",
       "      <td>Charcoal Fabric</td>\n",
       "      <td>Loved it!</td>\n",
       "      <td>1</td>\n",
       "    </tr>\n",
       "    <tr>\n",
       "      <th>2</th>\n",
       "      <td>4</td>\n",
       "      <td>31-Jul-18</td>\n",
       "      <td>Walnut Finish</td>\n",
       "      <td>Sometimes while playing a game, you can answer...</td>\n",
       "      <td>1</td>\n",
       "    </tr>\n",
       "    <tr>\n",
       "      <th>3</th>\n",
       "      <td>5</td>\n",
       "      <td>31-Jul-18</td>\n",
       "      <td>Charcoal Fabric</td>\n",
       "      <td>I have had a lot of fun with this thing. My 4 ...</td>\n",
       "      <td>1</td>\n",
       "    </tr>\n",
       "    <tr>\n",
       "      <th>4</th>\n",
       "      <td>5</td>\n",
       "      <td>31-Jul-18</td>\n",
       "      <td>Charcoal Fabric</td>\n",
       "      <td>Music</td>\n",
       "      <td>1</td>\n",
       "    </tr>\n",
       "  </tbody>\n",
       "</table>\n",
       "</div>"
      ],
      "text/plain": [
       "   rating       date         variation  \\\n",
       "0       5  31-Jul-18  Charcoal Fabric    \n",
       "1       5  31-Jul-18  Charcoal Fabric    \n",
       "2       4  31-Jul-18    Walnut Finish    \n",
       "3       5  31-Jul-18  Charcoal Fabric    \n",
       "4       5  31-Jul-18  Charcoal Fabric    \n",
       "\n",
       "                                    verified_reviews  feedback  \n",
       "0                                      Love my Echo!         1  \n",
       "1                                          Loved it!         1  \n",
       "2  Sometimes while playing a game, you can answer...         1  \n",
       "3  I have had a lot of fun with this thing. My 4 ...         1  \n",
       "4                                              Music         1  "
      ]
     },
     "execution_count": 44,
     "metadata": {},
     "output_type": "execute_result"
    }
   ],
   "source": [
    "path = Path(kagglehub.dataset_download(\"sid321axn/amazon-alexa-reviews\"))\n",
    "path = Path(path)\n",
    "\n",
    "df = pd.read_csv(path / \"amazon_alexa.tsv\", sep=\"\\t\")\n",
    "df.head()"
   ]
  },
  {
   "cell_type": "markdown",
   "id": "30ec0bfc",
   "metadata": {},
   "source": [
    "##### Handle null values"
   ]
  },
  {
   "cell_type": "code",
   "execution_count": 45,
   "id": "da9529ae",
   "metadata": {},
   "outputs": [
    {
     "name": "stdout",
     "output_type": "stream",
     "text": [
      "rating              0\n",
      "date                0\n",
      "variation           0\n",
      "verified_reviews    1\n",
      "feedback            0\n",
      "dtype: int64\n"
     ]
    }
   ],
   "source": [
    "null_values = df.isnull().sum()\n",
    "print(null_values)"
   ]
  },
  {
   "cell_type": "markdown",
   "id": "1baf27e9",
   "metadata": {},
   "source": [
    "As the only missing feature in one row is `verified_reviews` and it is not possible (or reasonable) to fill or estimate this value, I decided to drop the row containing the missing value."
   ]
  },
  {
   "cell_type": "code",
   "execution_count": 46,
   "id": "8c0fc324",
   "metadata": {},
   "outputs": [
    {
     "name": "stdout",
     "output_type": "stream",
     "text": [
      "rating              0\n",
      "date                0\n",
      "variation           0\n",
      "verified_reviews    0\n",
      "feedback            0\n",
      "dtype: int64\n"
     ]
    }
   ],
   "source": [
    "df = df.dropna()\n",
    "null_values = df.isnull().sum()\n",
    "print(null_values)"
   ]
  },
  {
   "cell_type": "markdown",
   "id": "d718d617",
   "metadata": {},
   "source": [
    "##### Relationship Between Feedback and Rating\n",
    "\n",
    "The dataset contains both `feedback` and `rating` features. Understanding their relationship can provide insights into customer satisfaction and sentiment. Grouping and analyzing these features together can reveal patterns, such as whether higher ratings consistently correspond to positive feedback."
   ]
  },
  {
   "cell_type": "code",
   "execution_count": 47,
   "id": "4b292918",
   "metadata": {},
   "outputs": [
    {
     "data": {
      "text/plain": [
       "rating  feedback\n",
       "1       0            161\n",
       "2       0             95\n",
       "3       1            152\n",
       "4       1            455\n",
       "5       1           2286\n",
       "dtype: int64"
      ]
     },
     "execution_count": 47,
     "metadata": {},
     "output_type": "execute_result"
    }
   ],
   "source": [
    "grouped_df = df.groupby(['rating', 'feedback'])\n",
    "grouped_df.size()"
   ]
  },
  {
   "cell_type": "markdown",
   "id": "cd16b11d",
   "metadata": {},
   "source": [
    "##### Insights on Feedback and Ratings\n",
    "\n",
    "From the analysis, it is evident that reviews with a rating of 2 or below consistently have feedback labeled as 0 (negative), while ratings above 2 always correspond to feedback labeled as 1 (positive). This observation simplifies the task of classifying opinions into feedback categories: 0 (negative) or 1 (positive). The next steps will involve leveraging this relationship to develop a classification model for sentiment analysis."
   ]
  },
  {
   "cell_type": "markdown",
   "id": "aa0560c4",
   "metadata": {},
   "source": [
    "##### Distribution of ratings in dataset"
   ]
  },
  {
   "cell_type": "code",
   "execution_count": 48,
   "id": "e2494ac0",
   "metadata": {},
   "outputs": [
    {
     "data": {
      "image/png": "[encoded data removed]",
      "text/plain": [
       "<Figure size 640x480 with 1 Axes>"
      ]
     },
     "metadata": {},
     "output_type": "display_data"
    }
   ],
   "source": [
    "sns.countplot(data=df, x='rating')\n",
    "plt.title('Distribution of Ratings')\n",
    "plt.xlabel('Rating')\n",
    "plt.ylabel('Count')\n",
    "plt.show()"
   ]
  },
  {
   "cell_type": "markdown",
   "id": "b34bbc66",
   "metadata": {},
   "source": [
    "##### Conclusion on Rating Distribution\n",
    "\n",
    "The plot shows that the majority of ratings are highly positive, with a significant number of 5-star reviews. I won't draw plot of feedback distribution but its easy to deduce that there are a lot less objects with feedback 0 than feedback 1."
   ]
  },
  {
   "cell_type": "markdown",
   "id": "80889ef8",
   "metadata": {},
   "source": [
    "#### Evaluation of other features"
   ]
  },
  {
   "cell_type": "markdown",
   "id": "876d14d0",
   "metadata": {},
   "source": [
    "##### Variation"
   ]
  },
  {
   "cell_type": "code",
   "execution_count": 49,
   "id": "ce2cd98c",
   "metadata": {
    "vscode": {
     "languageId": "javascript"
    }
   },
   "outputs": [
    {
     "name": "stdout",
     "output_type": "stream",
     "text": [
      "                       variation  feedback_0_percentage  count\n",
      "11                         White              17.777778     90\n",
      "0                          Black              13.409962    261\n",
      "4                    Black  Spot              13.278008    241\n",
      "14                   White  Show              12.941176     85\n",
      "15                   White  Spot              11.009174    109\n",
      "2                    Black  Plus              10.370370    270\n",
      "13                   White  Plus              10.256410     78\n",
      "6   Configuration: Fire TV Stick               8.000000    350\n",
      "1                     Black  Dot               6.976744    516\n",
      "3                    Black  Show               6.792453    265\n",
      "9              Sandstone Fabric                6.666667     90\n",
      "12                    White  Dot               6.521739    184\n",
      "5               Charcoal Fabric                2.790698    430\n",
      "7           Heather Gray Fabric                1.273885    157\n",
      "8                    Oak Finish                     NaN     14\n",
      "10                Walnut Finish                     NaN      9\n"
     ]
    }
   ],
   "source": [
    "feedback_0_percentage = (\n",
    "    df[df['feedback'] == 0]\n",
    "    .groupby('variation')\n",
    "    .size() / df.groupby('variation').size() * 100\n",
    ").reset_index(name='feedback_0_percentage')\n",
    "\n",
    "variation_counts = df.groupby('variation').size().reset_index(name='count')\n",
    "feedback_0_percentage = feedback_0_percentage.merge(variation_counts, on='variation')\n",
    "\n",
    "print(feedback_0_percentage.sort_values(by='feedback_0_percentage', ascending=False))"
   ]
  },
  {
   "cell_type": "markdown",
   "id": "f43154c6",
   "metadata": {},
   "source": [
    "Although there are some differences in feedback based on variation, I have decided not to pursue this further. This is because new variations of Alexa may be introduced in the future, which could reduce the robustness of the model."
   ]
  },
  {
   "cell_type": "markdown",
   "id": "90614de8",
   "metadata": {},
   "source": [
    "##### Date"
   ]
  },
  {
   "cell_type": "markdown",
   "id": "5492a729",
   "metadata": {},
   "source": [
    "No reason for date to be relevant for sentiment classification."
   ]
  },
  {
   "cell_type": "markdown",
   "id": "1837e2b8",
   "metadata": {},
   "source": [
    "#### Dropping Irrelevant Columns\n",
    "\n",
    "For the sentiment analysis task, columns such as `date` and `variation` may not significantly contribute to predicting sentiment. Having said that, only the verified_reviews feature will be considered in next steps. \n"
   ]
  },
  {
   "cell_type": "code",
   "execution_count": 50,
   "id": "7b8e02d9",
   "metadata": {},
   "outputs": [
    {
     "data": {
      "text/html": [
       "<div>\n",
       "<style scoped>\n",
       "    .dataframe tbody tr th:only-of-type {\n",
       "        vertical-align: middle;\n",
       "    }\n",
       "\n",
       "    .dataframe tbody tr th {\n",
       "        vertical-align: top;\n",
       "    }\n",
       "\n",
       "    .dataframe thead th {\n",
       "        text-align: right;\n",
       "    }\n",
       "</style>\n",
       "<table border=\"1\" class=\"dataframe\">\n",
       "  <thead>\n",
       "    <tr style=\"text-align: right;\">\n",
       "      <th></th>\n",
       "      <th>feedback</th>\n",
       "      <th>verified_reviews</th>\n",
       "      <th>rating</th>\n",
       "    </tr>\n",
       "  </thead>\n",
       "  <tbody>\n",
       "    <tr>\n",
       "      <th>0</th>\n",
       "      <td>1</td>\n",
       "      <td>Love my Echo!</td>\n",
       "      <td>5</td>\n",
       "    </tr>\n",
       "    <tr>\n",
       "      <th>1</th>\n",
       "      <td>1</td>\n",
       "      <td>Loved it!</td>\n",
       "      <td>5</td>\n",
       "    </tr>\n",
       "    <tr>\n",
       "      <th>2</th>\n",
       "      <td>1</td>\n",
       "      <td>Sometimes while playing a game, you can answer...</td>\n",
       "      <td>4</td>\n",
       "    </tr>\n",
       "    <tr>\n",
       "      <th>3</th>\n",
       "      <td>1</td>\n",
       "      <td>I have had a lot of fun with this thing. My 4 ...</td>\n",
       "      <td>5</td>\n",
       "    </tr>\n",
       "    <tr>\n",
       "      <th>4</th>\n",
       "      <td>1</td>\n",
       "      <td>Music</td>\n",
       "      <td>5</td>\n",
       "    </tr>\n",
       "  </tbody>\n",
       "</table>\n",
       "</div>"
      ],
      "text/plain": [
       "   feedback                                   verified_reviews  rating\n",
       "0         1                                      Love my Echo!       5\n",
       "1         1                                          Loved it!       5\n",
       "2         1  Sometimes while playing a game, you can answer...       4\n",
       "3         1  I have had a lot of fun with this thing. My 4 ...       5\n",
       "4         1                                              Music       5"
      ]
     },
     "execution_count": 50,
     "metadata": {},
     "output_type": "execute_result"
    }
   ],
   "source": [
    "reviews_df = df[['feedback', 'verified_reviews', 'rating']]\n",
    "reviews_df.head()"
   ]
  },
  {
   "cell_type": "markdown",
   "id": "f789e55d",
   "metadata": {},
   "source": [
    "# Model evaluation - functions definitions"
   ]
  },
  {
   "cell_type": "code",
   "execution_count": null,
   "id": "4c584895",
   "metadata": {},
   "outputs": [],
   "source": [
    "from sklearn.metrics import precision_score, recall_score\n",
    "\n",
    "def evaluate_model(reviews_df):\n",
    "    negative_recall = recall_score(reviews_df['feedback'], reviews_df['predicted_feedback'], pos_label=0)\n",
    "    negative_precision = precision_score(reviews_df['feedback'], reviews_df['predicted_feedback'], pos_label=0)\n",
    "\n",
    "    positive_recall = recall_score(reviews_df['feedback'], reviews_df['predicted_feedback'], pos_label=1)\n",
    "    positive_precision = precision_score(reviews_df['feedback'], reviews_df['predicted_feedback'], pos_label=1)\n",
    "\n",
    "    return {\n",
    "        \"negative_recall\": negative_recall,\n",
    "        \"negative_precision\": negative_precision,\n",
    "        \"positive_recall\": positive_recall,\n",
    "        \"positive_precision\": positive_precision\n",
    "    }\n",
    "\n",
    "evaluation_results = evaluate_model(reviews_df)\n",
    "print(evaluation_results)"
   ]
  },
  {
   "cell_type": "markdown",
   "id": "a1b942c8",
   "metadata": {},
   "source": [
    "# Checking performance of Vader (Valence Aware Dictionary and sEntiment Reasoner)"
   ]
  },
  {
   "cell_type": "code",
   "execution_count": 68,
   "id": "731e355a",
   "metadata": {},
   "outputs": [
    {
     "data": {
      "text/html": [
       "<div>\n",
       "<style scoped>\n",
       "    .dataframe tbody tr th:only-of-type {\n",
       "        vertical-align: middle;\n",
       "    }\n",
       "\n",
       "    .dataframe tbody tr th {\n",
       "        vertical-align: top;\n",
       "    }\n",
       "\n",
       "    .dataframe thead th {\n",
       "        text-align: right;\n",
       "    }\n",
       "</style>\n",
       "<table border=\"1\" class=\"dataframe\">\n",
       "  <thead>\n",
       "    <tr style=\"text-align: right;\">\n",
       "      <th></th>\n",
       "      <th>verified_reviews</th>\n",
       "      <th>vader_sentiment</th>\n",
       "      <th>feedback</th>\n",
       "    </tr>\n",
       "  </thead>\n",
       "  <tbody>\n",
       "    <tr>\n",
       "      <th>0</th>\n",
       "      <td>Love my Echo!</td>\n",
       "      <td>0.6696</td>\n",
       "      <td>1</td>\n",
       "    </tr>\n",
       "    <tr>\n",
       "      <th>1</th>\n",
       "      <td>Loved it!</td>\n",
       "      <td>0.6360</td>\n",
       "      <td>1</td>\n",
       "    </tr>\n",
       "    <tr>\n",
       "      <th>2</th>\n",
       "      <td>Sometimes while playing a game, you can answer...</td>\n",
       "      <td>-0.1280</td>\n",
       "      <td>1</td>\n",
       "    </tr>\n",
       "    <tr>\n",
       "      <th>3</th>\n",
       "      <td>I have had a lot of fun with this thing. My 4 ...</td>\n",
       "      <td>0.9169</td>\n",
       "      <td>1</td>\n",
       "    </tr>\n",
       "    <tr>\n",
       "      <th>4</th>\n",
       "      <td>Music</td>\n",
       "      <td>0.0000</td>\n",
       "      <td>1</td>\n",
       "    </tr>\n",
       "  </tbody>\n",
       "</table>\n",
       "</div>"
      ],
      "text/plain": [
       "                                    verified_reviews  vader_sentiment  \\\n",
       "0                                      Love my Echo!           0.6696   \n",
       "1                                          Loved it!           0.6360   \n",
       "2  Sometimes while playing a game, you can answer...          -0.1280   \n",
       "3  I have had a lot of fun with this thing. My 4 ...           0.9169   \n",
       "4                                              Music           0.0000   \n",
       "\n",
       "   feedback  \n",
       "0         1  \n",
       "1         1  \n",
       "2         1  \n",
       "3         1  \n",
       "4         1  "
      ]
     },
     "execution_count": 68,
     "metadata": {},
     "output_type": "execute_result"
    }
   ],
   "source": [
    "reviews_df.loc[:, 'vader_sentiment'] = reviews_df['verified_reviews'].apply(\n",
    "    lambda review: analyzer.polarity_scores(review)['compound']\n",
    ")\n",
    "\n",
    "reviews_df[['verified_reviews', 'vader_sentiment', 'feedback']].head()\n"
   ]
  },
  {
   "cell_type": "code",
   "execution_count": 69,
   "id": "b0640ba2",
   "metadata": {},
   "outputs": [
    {
     "name": "stdout",
     "output_type": "stream",
     "text": [
      "Best Threshold: -0.49999999999999956, Best Accuracy: 0.9291838678945697\n"
     ]
    }
   ],
   "source": [
    "def classify_sentiment(score, threshold=0.2):\n",
    "    if score >= threshold:\n",
    "        return 1\n",
    "    return 0\n",
    "\n",
    "def get_accuracy(threshold):\n",
    "    reviews_df['predicted_feedback'] = reviews_df['vader_sentiment'].apply(\n",
    "        lambda score: classify_sentiment(score, threshold=threshold)\n",
    "    )\n",
    "    return (reviews_df['predicted_feedback'] == reviews_df['feedback']).mean()\n",
    "\n",
    "best_threshold = 0\n",
    "best_accuracy = 0\n",
    "for threshold in np.arange(-1, 1, 0.01):\n",
    "    accuracy = get_accuracy(threshold)\n",
    "    if accuracy > best_accuracy:\n",
    "        best_accuracy = accuracy\n",
    "        best_threshold = threshold\n",
    "\n",
    "print(f\"Best Threshold: {best_threshold}, Best Accuracy: {best_accuracy}\")"
   ]
  },
  {
   "cell_type": "code",
   "execution_count": 77,
   "id": "fe03a674",
   "metadata": {},
   "outputs": [
    {
     "name": "stdout",
     "output_type": "stream",
     "text": [
      "Recall (Negative Reviews): 0.19921875\n",
      "Precision (Negative Reviews): 0.7391304347826086\n"
     ]
    }
   ],
   "source": [
    "from sklearn.metrics import recall_score\n",
    "\n",
    "# Calculate recall for negative reviews (feedback = 0)\n",
    "negative_recall = recall_score(reviews_df['feedback'], reviews_df['predicted_feedback'], pos_label=0)\n",
    "\n",
    "print(f\"Recall (Negative Reviews): {negative_recall}\")\n",
    "# Calculate precision for negative reviews (feedback = 0)\n",
    "negative_precision = precision_score(reviews_df['feedback'], reviews_df['predicted_feedback'], pos_label=0, average='binary')\n",
    "\n",
    "print(f\"Precision (Negative Reviews): {negative_precision}\")"
   ]
  }
 ],
 "metadata": {
  "kernelspec": {
   "display_name": "base",
   "language": "python",
   "name": "python3"
  },
  "language_info": {
   "codemirror_mode": {
    "name": "ipython",
    "version": 3
   },
   "file_extension": ".py",
   "mimetype": "text/x-python",
   "name": "python",
   "nbconvert_exporter": "python",
   "pygments_lexer": "ipython3",
   "version": "3.12.7"
  }
 },
 "nbformat": 4,
 "nbformat_minor": 5
}
